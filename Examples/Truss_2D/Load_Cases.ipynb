{
 "cells": [
  {
   "cell_type": "code",
   "execution_count": 1,
   "metadata": {},
   "outputs": [],
   "source": [
    "from pysead import Truss_2D\n",
    "import numpy as np"
   ]
  },
  {
   "cell_type": "code",
   "execution_count": 2,
   "metadata": {},
   "outputs": [],
   "source": [
    "nodes = []\n",
    "\n",
    "for i in range(11):\n",
    "    for j in range(2):\n",
    "        nodes.append([i,j])\n",
    "\n",
    "del nodes[1]\n",
    "del nodes[-1]\n",
    "nodes = {key+1: nodes[key] for key in range(20)}\n",
    "\n",
    "elements=  {1:[1, 3], 2:[2, 3], 3:[4, 3], 4:[3, 5], 5:[4, 5], 6:[6, 5], 7:[5, 7], 8:[6, 7], 9:[8, 7], 10:[7, 9], \n",
    "         11:[8, 9], 12:[10, 9], 13:[9, 11], 14:[10, 11], 15:[10, 13], 16:[11, 13], 17:[12, 13], 18:[12, 15], 19:[13, 15], 20:[14, 15], \n",
    "         21:[14, 17], 22:[15, 17], 23:[16, 17], 24:[16, 19], 25:[17, 19], 26:[18, 19], 27:[19, 20], 28:[1, 2], 29:[2, 4], 30:[4, 6], \n",
    "         31:[6, 8], 32:[8, 10], 33:[10, 12], 34:[12, 14], 35:[14, 16], 36:[16, 18], 37:[18, 20]}\n",
    "\n",
    "elasticity = {key: 2.11e6 for key in elements}\n",
    "cross_area = {key: 0.004 for key in elements}\n",
    "supports = {1:[1,1], 20:[1,1]}\n"
   ]
  },
  {
   "cell_type": "code",
   "execution_count": 3,
   "metadata": {},
   "outputs": [],
   "source": [
    "forces1 = {key: [0,-98.1] for key in range(2,19,2)}"
   ]
  },
  {
   "cell_type": "code",
   "execution_count": 4,
   "metadata": {},
   "outputs": [],
   "source": [
    "forces2 = {key: [0,-10] for key in range(2,19,2)}"
   ]
  },
  {
   "cell_type": "code",
   "execution_count": 6,
   "metadata": {},
   "outputs": [
    {
     "data": {
      "text/plain": [
       "{2: [0, -98.1],\n",
       " 4: [0, -98.1],\n",
       " 6: [0, -98.1],\n",
       " 8: [0, -98.1],\n",
       " 10: [0, -98.1],\n",
       " 12: [0, -98.1],\n",
       " 14: [0, -98.1],\n",
       " 16: [0, -98.1],\n",
       " 18: [0, -98.1]}"
      ]
     },
     "execution_count": 6,
     "metadata": {},
     "output_type": "execute_result"
    }
   ],
   "source": [
    "forces1"
   ]
  },
  {
   "cell_type": "code",
   "execution_count": 5,
   "metadata": {},
   "outputs": [
    {
     "ename": "SyntaxError",
     "evalue": "invalid syntax (1062598160.py, line 1)",
     "output_type": "error",
     "traceback": [
      "\u001b[1;36m  Cell \u001b[1;32mIn[5], line 1\u001b[1;36m\u001b[0m\n\u001b[1;33m    forces3 = [key: x + y for x,y in zip(forces1[key], forces2[key])]\u001b[0m\n\u001b[1;37m                  ^\u001b[0m\n\u001b[1;31mSyntaxError\u001b[0m\u001b[1;31m:\u001b[0m invalid syntax\n"
     ]
    }
   ],
   "source": [
    "forces3 = [key: x + y for x,y in zip(forces1[key], forces2[key])]"
   ]
  },
  {
   "cell_type": "code",
   "execution_count": null,
   "metadata": {},
   "outputs": [],
   "source": [
    "Truss1 = Truss_2D(nodes = nodes,\n",
    "                 elements = elements,\n",
    "                 supports = supports,\n",
    "                 forces = forces1,\n",
    "                 elasticity = elasticity,\n",
    "                 cross_area = cross_area)\n",
    "\n",
    "Truss2 = Truss_2D(nodes = nodes,\n",
    "                 elements = elements,\n",
    "                 supports = supports,\n",
    "                 forces = forces2,\n",
    "                 elasticity = elasticity,\n",
    "                 cross_area = cross_area)"
   ]
  },
  {
   "cell_type": "code",
   "execution_count": null,
   "metadata": {},
   "outputs": [],
   "source": [
    "Truss1.Draw_Truss_Setup(figure_size=[20,5], length_of_arrow=0.3, width_of_arrow=0.05, offset = 0.015)"
   ]
  },
  {
   "cell_type": "code",
   "execution_count": null,
   "metadata": {},
   "outputs": [],
   "source": [
    "Truss2.Draw_Truss_Setup(figure_size=[20,5], length_of_arrow=0.3, width_of_arrow=0.05, offset = 0.015)"
   ]
  },
  {
   "cell_type": "code",
   "execution_count": null,
   "metadata": {},
   "outputs": [],
   "source": [
    "Truss1.Solve()\n",
    "Truss2.Solve()"
   ]
  },
  {
   "cell_type": "code",
   "execution_count": null,
   "metadata": {},
   "outputs": [],
   "source": [
    "A = np.fromiter(Truss1.member_forces_.values(),dtype=float)\n",
    "B = np.fromiter(Truss2.member_forces_.values(),dtype=float)\n",
    "C = A + B"
   ]
  },
  {
   "cell_type": "code",
   "execution_count": null,
   "metadata": {},
   "outputs": [],
   "source": [
    "list = [i for i in Truss1.displacements_.values()]\n",
    "displacement = np.array(list)"
   ]
  },
  {
   "cell_type": "code",
   "execution_count": null,
   "metadata": {},
   "outputs": [],
   "source": [
    "Truss1.reactions_"
   ]
  },
  {
   "cell_type": "code",
   "execution_count": null,
   "metadata": {},
   "outputs": [],
   "source": [
    "Truss1.displacements_"
   ]
  },
  {
   "cell_type": "code",
   "execution_count": null,
   "metadata": {},
   "outputs": [],
   "source": []
  }
 ],
 "metadata": {
  "kernelspec": {
   "display_name": "base",
   "language": "python",
   "name": "python3"
  },
  "language_info": {
   "codemirror_mode": {
    "name": "ipython",
    "version": 3
   },
   "file_extension": ".py",
   "mimetype": "text/x-python",
   "name": "python",
   "nbconvert_exporter": "python",
   "pygments_lexer": "ipython3",
   "version": "3.10.9"
  },
  "orig_nbformat": 4,
  "vscode": {
   "interpreter": {
    "hash": "ff1677e4177d2f0f7f596de5ac981a67a15b2d05b7826ab3f9be18a49fb9034e"
   }
  }
 },
 "nbformat": 4,
 "nbformat_minor": 2
}
